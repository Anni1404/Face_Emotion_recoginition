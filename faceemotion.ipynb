{
 "cells": [
  {
   "cell_type": "code",
   "execution_count": 1,
   "id": "32e65f0a-dbea-4265-98df-235c681017f8",
   "metadata": {},
   "outputs": [],
   "source": [
    "from tensorflow.keras.utils import to_categorical\n",
    "from tensorflow.keras.preprocessing.image import load_img\n",
    "from tensorflow.keras.models import Sequential\n",
    "from tensorflow.keras.layers import Dense, Conv2D, Dropout, Flatten, MaxPooling2D\n",
    "import os\n",
    "import pandas as pd\n",
    "import numpy as np\n"
   ]
  },
  {
   "cell_type": "code",
   "execution_count": 2,
   "id": "4662d835-9769-41aa-839b-3305af739053",
   "metadata": {},
   "outputs": [],
   "source": [
    "TRAIN_DIR = 'images/train'\n",
    "TEST_DIR = 'images/test'"
   ]
  },
  {
   "cell_type": "code",
   "execution_count": 3,
   "id": "65c3fee6-d966-486d-bdc7-61e059c437df",
   "metadata": {},
   "outputs": [],
   "source": [
    "def createdataframe(dir):\n",
    "    image_paths = []\n",
    "    labels = []\n",
    "    for label in os.listdir(dir):\n",
    "        for imagename in os.listdir(os.path.join(dir,label)):\n",
    "            image_paths.append(os.path.join(dir,label,imagename))\n",
    "            labels.append(label)\n",
    "        print(label, \"completed\")\n",
    "    return image_paths,labels"
   ]
  },
  {
   "cell_type": "code",
   "execution_count": 4,
   "id": "e1082f93-7521-41c1-8ba2-3de3c16de846",
   "metadata": {},
   "outputs": [
    {
     "name": "stdout",
     "output_type": "stream",
     "text": [
      "angry completed\n",
      "disgust completed\n",
      "fear completed\n",
      "happy completed\n",
      "neutral completed\n",
      "sad completed\n",
      "surprise completed\n"
     ]
    }
   ],
   "source": [
    "train = pd.DataFrame()\n",
    "train['image'], train['label'] = createdataframe(TRAIN_DIR)"
   ]
  },
  {
   "cell_type": "code",
   "execution_count": 5,
   "id": "f03e1d63-d78e-44dd-9564-e6655e07dc58",
   "metadata": {},
   "outputs": [
    {
     "name": "stdout",
     "output_type": "stream",
     "text": [
      "                                image     label\n",
      "0            images/train\\angry\\0.jpg     angry\n",
      "1            images/train\\angry\\1.jpg     angry\n",
      "2           images/train\\angry\\10.jpg     angry\n",
      "3        images/train\\angry\\10002.jpg     angry\n",
      "4        images/train\\angry\\10016.jpg     angry\n",
      "...                               ...       ...\n",
      "28816  images/train\\surprise\\9969.jpg  surprise\n",
      "28817  images/train\\surprise\\9985.jpg  surprise\n",
      "28818  images/train\\surprise\\9990.jpg  surprise\n",
      "28819  images/train\\surprise\\9992.jpg  surprise\n",
      "28820  images/train\\surprise\\9996.jpg  surprise\n",
      "\n",
      "[28821 rows x 2 columns]\n"
     ]
    }
   ],
   "source": [
    "print(train)"
   ]
  },
  {
   "cell_type": "code",
   "execution_count": 6,
   "id": "c92249e2-8c36-43b1-b541-4aa03c7411f6",
   "metadata": {},
   "outputs": [
    {
     "name": "stdout",
     "output_type": "stream",
     "text": [
      "angry completed\n",
      "disgust completed\n",
      "fear completed\n",
      "happy completed\n",
      "neutral completed\n",
      "sad completed\n",
      "surprise completed\n"
     ]
    }
   ],
   "source": [
    "test = pd.DataFrame()\n",
    "test['image'], test['label'] = createdataframe(TEST_DIR)"
   ]
  },
  {
   "cell_type": "code",
   "execution_count": 7,
   "id": "ee339600-253c-4aff-a741-0e1d050e5a31",
   "metadata": {},
   "outputs": [
    {
     "name": "stdout",
     "output_type": "stream",
     "text": [
      "                              image     label\n",
      "0       images/test\\angry\\10052.jpg     angry\n",
      "1       images/test\\angry\\10065.jpg     angry\n",
      "2       images/test\\angry\\10079.jpg     angry\n",
      "3       images/test\\angry\\10095.jpg     angry\n",
      "4       images/test\\angry\\10121.jpg     angry\n",
      "...                             ...       ...\n",
      "7061  images/test\\surprise\\9806.jpg  surprise\n",
      "7062  images/test\\surprise\\9830.jpg  surprise\n",
      "7063  images/test\\surprise\\9853.jpg  surprise\n",
      "7064  images/test\\surprise\\9878.jpg  surprise\n",
      "7065   images/test\\surprise\\993.jpg  surprise\n",
      "\n",
      "[7066 rows x 2 columns]\n",
      "0         images/test\\angry\\10052.jpg\n",
      "1         images/test\\angry\\10065.jpg\n",
      "2         images/test\\angry\\10079.jpg\n",
      "3         images/test\\angry\\10095.jpg\n",
      "4         images/test\\angry\\10121.jpg\n",
      "                    ...              \n",
      "7061    images/test\\surprise\\9806.jpg\n",
      "7062    images/test\\surprise\\9830.jpg\n",
      "7063    images/test\\surprise\\9853.jpg\n",
      "7064    images/test\\surprise\\9878.jpg\n",
      "7065     images/test\\surprise\\993.jpg\n",
      "Name: image, Length: 7066, dtype: object\n"
     ]
    }
   ],
   "source": [
    "print(test)\n",
    "print(test['image'])"
   ]
  },
  {
   "cell_type": "code",
   "execution_count": 8,
   "id": "6028e8f8-4d96-4a3a-8483-618792c87696",
   "metadata": {},
   "outputs": [],
   "source": [
    "from tqdm.notebook import tqdm"
   ]
  },
  {
   "cell_type": "code",
   "execution_count": 9,
   "id": "ec026f3a-3288-4244-8517-fd4cba6991d0",
   "metadata": {},
   "outputs": [],
   "source": [
    "def extract_features(images):\n",
    "    features = []\n",
    "    for image in tqdm(images):\n",
    "        img = load_img(image,grayscale =  True )\n",
    "        img = np.array(img)\n",
    "        features.append(img)\n",
    "    features = np.array(features)\n",
    "    features = features.reshape(len(features),48,48,1)\n",
    "    return features"
   ]
  },
  {
   "cell_type": "code",
   "execution_count": 10,
   "id": "0258a707-5abf-4d4b-8bc7-be5b6af77bb5",
   "metadata": {},
   "outputs": [
    {
     "data": {
      "application/vnd.jupyter.widget-view+json": {
       "model_id": "2cf715268ff442f585d466aa93ee5a1e",
       "version_major": 2,
       "version_minor": 0
      },
      "text/plain": [
       "  0%|          | 0/28821 [00:00<?, ?it/s]"
      ]
     },
     "metadata": {},
     "output_type": "display_data"
    },
    {
     "name": "stderr",
     "output_type": "stream",
     "text": [
      "C:\\Users\\Win10\\AppData\\Local\\Programs\\Python\\Python310\\lib\\site-packages\\keras\\src\\utils\\image_utils.py:409: UserWarning: grayscale is deprecated. Please use color_mode = \"grayscale\"\n",
      "  warnings.warn(\n"
     ]
    }
   ],
   "source": [
    "train_features = extract_features(train['image'])"
   ]
  },
  {
   "cell_type": "code",
   "execution_count": 11,
   "id": "7dc17f5c-1cd4-46ad-9a70-f7df52bb76ad",
   "metadata": {},
   "outputs": [
    {
     "data": {
      "application/vnd.jupyter.widget-view+json": {
       "model_id": "e724a822dd6e488d8417ef98f7418578",
       "version_major": 2,
       "version_minor": 0
      },
      "text/plain": [
       "  0%|          | 0/7066 [00:00<?, ?it/s]"
      ]
     },
     "metadata": {},
     "output_type": "display_data"
    }
   ],
   "source": [
    "test_features = extract_features(test['image'])"
   ]
  },
  {
   "cell_type": "code",
   "execution_count": 12,
   "id": "5083f9eb-f6a0-4f5b-92bf-cce6f1cbf2a5",
   "metadata": {},
   "outputs": [],
   "source": [
    "x_train = train_features/255.0\n",
    "x_test = test_features/255.0"
   ]
  },
  {
   "cell_type": "code",
   "execution_count": 13,
   "id": "8faa5edf-bbf2-47b8-af58-326fc0d024eb",
   "metadata": {},
   "outputs": [],
   "source": [
    "from sklearn.preprocessing import LabelEncoder"
   ]
  },
  {
   "cell_type": "code",
   "execution_count": 14,
   "id": "707e7109-fc8b-4ed3-b4e2-3291514d3e61",
   "metadata": {},
   "outputs": [
    {
     "data": {
      "text/html": [
       "<style>#sk-container-id-1 {color: black;}#sk-container-id-1 pre{padding: 0;}#sk-container-id-1 div.sk-toggleable {background-color: white;}#sk-container-id-1 label.sk-toggleable__label {cursor: pointer;display: block;width: 100%;margin-bottom: 0;padding: 0.3em;box-sizing: border-box;text-align: center;}#sk-container-id-1 label.sk-toggleable__label-arrow:before {content: \"▸\";float: left;margin-right: 0.25em;color: #696969;}#sk-container-id-1 label.sk-toggleable__label-arrow:hover:before {color: black;}#sk-container-id-1 div.sk-estimator:hover label.sk-toggleable__label-arrow:before {color: black;}#sk-container-id-1 div.sk-toggleable__content {max-height: 0;max-width: 0;overflow: hidden;text-align: left;background-color: #f0f8ff;}#sk-container-id-1 div.sk-toggleable__content pre {margin: 0.2em;color: black;border-radius: 0.25em;background-color: #f0f8ff;}#sk-container-id-1 input.sk-toggleable__control:checked~div.sk-toggleable__content {max-height: 200px;max-width: 100%;overflow: auto;}#sk-container-id-1 input.sk-toggleable__control:checked~label.sk-toggleable__label-arrow:before {content: \"▾\";}#sk-container-id-1 div.sk-estimator input.sk-toggleable__control:checked~label.sk-toggleable__label {background-color: #d4ebff;}#sk-container-id-1 div.sk-label input.sk-toggleable__control:checked~label.sk-toggleable__label {background-color: #d4ebff;}#sk-container-id-1 input.sk-hidden--visually {border: 0;clip: rect(1px 1px 1px 1px);clip: rect(1px, 1px, 1px, 1px);height: 1px;margin: -1px;overflow: hidden;padding: 0;position: absolute;width: 1px;}#sk-container-id-1 div.sk-estimator {font-family: monospace;background-color: #f0f8ff;border: 1px dotted black;border-radius: 0.25em;box-sizing: border-box;margin-bottom: 0.5em;}#sk-container-id-1 div.sk-estimator:hover {background-color: #d4ebff;}#sk-container-id-1 div.sk-parallel-item::after {content: \"\";width: 100%;border-bottom: 1px solid gray;flex-grow: 1;}#sk-container-id-1 div.sk-label:hover label.sk-toggleable__label {background-color: #d4ebff;}#sk-container-id-1 div.sk-serial::before {content: \"\";position: absolute;border-left: 1px solid gray;box-sizing: border-box;top: 0;bottom: 0;left: 50%;z-index: 0;}#sk-container-id-1 div.sk-serial {display: flex;flex-direction: column;align-items: center;background-color: white;padding-right: 0.2em;padding-left: 0.2em;position: relative;}#sk-container-id-1 div.sk-item {position: relative;z-index: 1;}#sk-container-id-1 div.sk-parallel {display: flex;align-items: stretch;justify-content: center;background-color: white;position: relative;}#sk-container-id-1 div.sk-item::before, #sk-container-id-1 div.sk-parallel-item::before {content: \"\";position: absolute;border-left: 1px solid gray;box-sizing: border-box;top: 0;bottom: 0;left: 50%;z-index: -1;}#sk-container-id-1 div.sk-parallel-item {display: flex;flex-direction: column;z-index: 1;position: relative;background-color: white;}#sk-container-id-1 div.sk-parallel-item:first-child::after {align-self: flex-end;width: 50%;}#sk-container-id-1 div.sk-parallel-item:last-child::after {align-self: flex-start;width: 50%;}#sk-container-id-1 div.sk-parallel-item:only-child::after {width: 0;}#sk-container-id-1 div.sk-dashed-wrapped {border: 1px dashed gray;margin: 0 0.4em 0.5em 0.4em;box-sizing: border-box;padding-bottom: 0.4em;background-color: white;}#sk-container-id-1 div.sk-label label {font-family: monospace;font-weight: bold;display: inline-block;line-height: 1.2em;}#sk-container-id-1 div.sk-label-container {text-align: center;}#sk-container-id-1 div.sk-container {/* jupyter's `normalize.less` sets `[hidden] { display: none; }` but bootstrap.min.css set `[hidden] { display: none !important; }` so we also need the `!important` here to be able to override the default hidden behavior on the sphinx rendered scikit-learn.org. See: https://github.com/scikit-learn/scikit-learn/issues/21755 */display: inline-block !important;position: relative;}#sk-container-id-1 div.sk-text-repr-fallback {display: none;}</style><div id=\"sk-container-id-1\" class=\"sk-top-container\"><div class=\"sk-text-repr-fallback\"><pre>LabelEncoder()</pre><b>In a Jupyter environment, please rerun this cell to show the HTML representation or trust the notebook. <br />On GitHub, the HTML representation is unable to render, please try loading this page with nbviewer.org.</b></div><div class=\"sk-container\" hidden><div class=\"sk-item\"><div class=\"sk-estimator sk-toggleable\"><input class=\"sk-toggleable__control sk-hidden--visually\" id=\"sk-estimator-id-1\" type=\"checkbox\" checked><label for=\"sk-estimator-id-1\" class=\"sk-toggleable__label sk-toggleable__label-arrow\">LabelEncoder</label><div class=\"sk-toggleable__content\"><pre>LabelEncoder()</pre></div></div></div></div></div>"
      ],
      "text/plain": [
       "LabelEncoder()"
      ]
     },
     "execution_count": 14,
     "metadata": {},
     "output_type": "execute_result"
    }
   ],
   "source": [
    "le = LabelEncoder()\n",
    "le.fit(train['label'])"
   ]
  },
  {
   "cell_type": "code",
   "execution_count": 15,
   "id": "63666efd-5824-4382-ac49-1423b9d2dfa9",
   "metadata": {},
   "outputs": [],
   "source": [
    "y_train = le.transform(train['label'])\n",
    "y_test = le.transform(test['label'])"
   ]
  },
  {
   "cell_type": "code",
   "execution_count": 16,
   "id": "b6f2cb31-16f2-424d-972e-b191df06ccfe",
   "metadata": {},
   "outputs": [],
   "source": [
    "y_train = to_categorical(y_train,num_classes = 7)\n",
    "y_test = to_categorical(y_test,num_classes = 7)"
   ]
  },
  {
   "cell_type": "code",
   "execution_count": 17,
   "id": "0ee4c6cf-93f9-45ee-bc9b-df6cd88f7aa1",
   "metadata": {},
   "outputs": [],
   "source": [
    "model = Sequential()\n",
    "# convolutional layers\n",
    "model.add(Conv2D(128, kernel_size=(3,3), activation='relu', input_shape=(48,48,1)))\n",
    "model.add(MaxPooling2D(pool_size=(2,2)))\n",
    "model.add(Dropout(0.4))\n",
    "\n",
    "model.add(Conv2D(256, kernel_size=(3,3), activation='relu'))\n",
    "model.add(MaxPooling2D(pool_size=(2,2)))\n",
    "model.add(Dropout(0.4))\n",
    "\n",
    "model.add(Conv2D(512, kernel_size=(3,3), activation='relu'))\n",
    "model.add(MaxPooling2D(pool_size=(2,2)))\n",
    "model.add(Dropout(0.4))\n",
    "\n",
    "model.add(Conv2D(512, kernel_size=(3,3), activation='relu'))\n",
    "model.add(MaxPooling2D(pool_size=(2,2)))\n",
    "model.add(Dropout(0.4))\n",
    "\n",
    "model.add(Flatten())\n",
    "# fully connected layers\n",
    "model.add(Dense(512, activation='relu'))\n",
    "model.add(Dropout(0.4))\n",
    "model.add(Dense(256, activation='relu'))\n",
    "model.add(Dropout(0.3))\n",
    "# output layer\n",
    "model.add(Dense(7, activation='softmax'))"
   ]
  },
  {
   "cell_type": "code",
   "execution_count": 18,
   "id": "d801d553-67f0-4dd6-b141-19f69b533813",
   "metadata": {},
   "outputs": [],
   "source": [
    "model.compile(optimizer = 'adam', loss = 'categorical_crossentropy', metrics = 'accuracy' )"
   ]
  },
  {
   "cell_type": "code",
   "execution_count": 20,
   "id": "c09acc1c-356b-4ec6-aa10-2ed24ea4c3f6",
   "metadata": {},
   "outputs": [
    {
     "name": "stdout",
     "output_type": "stream",
     "text": [
      "Epoch 1/100\n",
      "145/145 [==============================] - 347s 2s/step - loss: 1.8118 - accuracy: 0.2511 - val_loss: 1.7912 - val_accuracy: 0.2605\n",
      "Epoch 2/100\n",
      "145/145 [==============================] - 352s 2s/step - loss: 1.7598 - accuracy: 0.2688 - val_loss: 1.6949 - val_accuracy: 0.3156\n",
      "Epoch 3/100\n",
      "145/145 [==============================] - 352s 2s/step - loss: 1.6448 - accuracy: 0.3435 - val_loss: 1.5117 - val_accuracy: 0.4229\n",
      "Epoch 4/100\n",
      "145/145 [==============================] - 357s 2s/step - loss: 1.5081 - accuracy: 0.4124 - val_loss: 1.3992 - val_accuracy: 0.4655\n",
      "Epoch 5/100\n",
      "145/145 [==============================] - 359s 2s/step - loss: 1.4294 - accuracy: 0.4488 - val_loss: 1.3189 - val_accuracy: 0.4989\n",
      "Epoch 6/100\n",
      "145/145 [==============================] - 359s 2s/step - loss: 1.3771 - accuracy: 0.4673 - val_loss: 1.2625 - val_accuracy: 0.5144\n",
      "Epoch 7/100\n",
      "145/145 [==============================] - 361s 2s/step - loss: 1.3397 - accuracy: 0.4864 - val_loss: 1.2224 - val_accuracy: 0.5359\n",
      "Epoch 8/100\n",
      "145/145 [==============================] - 364s 3s/step - loss: 1.3052 - accuracy: 0.5021 - val_loss: 1.1883 - val_accuracy: 0.5483\n",
      "Epoch 9/100\n",
      "145/145 [==============================] - 362s 2s/step - loss: 1.2725 - accuracy: 0.5130 - val_loss: 1.1749 - val_accuracy: 0.5490\n",
      "Epoch 10/100\n",
      "145/145 [==============================] - 342s 2s/step - loss: 1.2506 - accuracy: 0.5235 - val_loss: 1.1740 - val_accuracy: 0.5481\n",
      "Epoch 11/100\n",
      "145/145 [==============================] - 342s 2s/step - loss: 1.2388 - accuracy: 0.5274 - val_loss: 1.1456 - val_accuracy: 0.5664\n",
      "Epoch 12/100\n",
      "145/145 [==============================] - 337s 2s/step - loss: 1.2187 - accuracy: 0.5377 - val_loss: 1.1282 - val_accuracy: 0.5746\n",
      "Epoch 13/100\n",
      "145/145 [==============================] - 337s 2s/step - loss: 1.2008 - accuracy: 0.5420 - val_loss: 1.1227 - val_accuracy: 0.5794\n",
      "Epoch 14/100\n",
      "145/145 [==============================] - 338s 2s/step - loss: 1.1797 - accuracy: 0.5503 - val_loss: 1.1171 - val_accuracy: 0.5805\n",
      "Epoch 15/100\n",
      "145/145 [==============================] - 344s 2s/step - loss: 1.1643 - accuracy: 0.5612 - val_loss: 1.1120 - val_accuracy: 0.5835\n",
      "Epoch 16/100\n",
      "145/145 [==============================] - 338s 2s/step - loss: 1.1549 - accuracy: 0.5591 - val_loss: 1.1191 - val_accuracy: 0.5778\n",
      "Epoch 17/100\n",
      "145/145 [==============================] - 337s 2s/step - loss: 1.1493 - accuracy: 0.5640 - val_loss: 1.1101 - val_accuracy: 0.5834\n",
      "Epoch 18/100\n",
      "145/145 [==============================] - 339s 2s/step - loss: 1.1330 - accuracy: 0.5690 - val_loss: 1.0832 - val_accuracy: 0.5945\n",
      "Epoch 19/100\n",
      "145/145 [==============================] - 338s 2s/step - loss: 1.1175 - accuracy: 0.5782 - val_loss: 1.0851 - val_accuracy: 0.5934\n",
      "Epoch 20/100\n",
      "145/145 [==============================] - 339s 2s/step - loss: 1.1130 - accuracy: 0.5802 - val_loss: 1.0952 - val_accuracy: 0.5869\n",
      "Epoch 21/100\n",
      "145/145 [==============================] - 341s 2s/step - loss: 1.0965 - accuracy: 0.5843 - val_loss: 1.0726 - val_accuracy: 0.5962\n",
      "Epoch 22/100\n",
      "145/145 [==============================] - 341s 2s/step - loss: 1.0843 - accuracy: 0.5884 - val_loss: 1.0641 - val_accuracy: 0.6025\n",
      "Epoch 23/100\n",
      "145/145 [==============================] - 340s 2s/step - loss: 1.0859 - accuracy: 0.5921 - val_loss: 1.0681 - val_accuracy: 0.6050\n",
      "Epoch 24/100\n",
      "145/145 [==============================] - 344s 2s/step - loss: 1.0696 - accuracy: 0.5965 - val_loss: 1.0811 - val_accuracy: 0.5992\n",
      "Epoch 25/100\n",
      "145/145 [==============================] - 344s 2s/step - loss: 1.0577 - accuracy: 0.5980 - val_loss: 1.0643 - val_accuracy: 0.5985\n",
      "Epoch 26/100\n",
      "145/145 [==============================] - 345s 2s/step - loss: 1.0501 - accuracy: 0.6057 - val_loss: 1.0818 - val_accuracy: 0.5960\n",
      "Epoch 27/100\n",
      "145/145 [==============================] - 342s 2s/step - loss: 1.0445 - accuracy: 0.6056 - val_loss: 1.0570 - val_accuracy: 0.6049\n",
      "Epoch 28/100\n",
      "145/145 [==============================] - 341s 2s/step - loss: 1.0363 - accuracy: 0.6100 - val_loss: 1.0463 - val_accuracy: 0.6110\n",
      "Epoch 29/100\n",
      "145/145 [==============================] - 341s 2s/step - loss: 1.0167 - accuracy: 0.6184 - val_loss: 1.0801 - val_accuracy: 0.6002\n",
      "Epoch 30/100\n",
      "145/145 [==============================] - 341s 2s/step - loss: 1.0223 - accuracy: 0.6167 - val_loss: 1.0401 - val_accuracy: 0.6141\n",
      "Epoch 31/100\n",
      "145/145 [==============================] - 342s 2s/step - loss: 1.0053 - accuracy: 0.6228 - val_loss: 1.0467 - val_accuracy: 0.6121\n",
      "Epoch 32/100\n",
      "145/145 [==============================] - 339s 2s/step - loss: 0.9895 - accuracy: 0.6304 - val_loss: 1.0425 - val_accuracy: 0.6117\n",
      "Epoch 33/100\n",
      "145/145 [==============================] - 340s 2s/step - loss: 0.9803 - accuracy: 0.6315 - val_loss: 1.0395 - val_accuracy: 0.6128\n",
      "Epoch 34/100\n",
      "145/145 [==============================] - 338s 2s/step - loss: 0.9814 - accuracy: 0.6292 - val_loss: 1.0360 - val_accuracy: 0.6112\n",
      "Epoch 35/100\n",
      "145/145 [==============================] - 339s 2s/step - loss: 0.9833 - accuracy: 0.6275 - val_loss: 1.0376 - val_accuracy: 0.6159\n",
      "Epoch 36/100\n",
      "145/145 [==============================] - 340s 2s/step - loss: 0.9713 - accuracy: 0.6341 - val_loss: 1.0661 - val_accuracy: 0.6020\n",
      "Epoch 37/100\n",
      "145/145 [==============================] - 338s 2s/step - loss: 0.9566 - accuracy: 0.6381 - val_loss: 1.0376 - val_accuracy: 0.6190\n",
      "Epoch 38/100\n",
      "145/145 [==============================] - 342s 2s/step - loss: 0.9594 - accuracy: 0.6380 - val_loss: 1.0333 - val_accuracy: 0.6202\n",
      "Epoch 39/100\n",
      "145/145 [==============================] - 345s 2s/step - loss: 0.9430 - accuracy: 0.6460 - val_loss: 1.0277 - val_accuracy: 0.6207\n",
      "Epoch 40/100\n",
      "145/145 [==============================] - 346s 2s/step - loss: 0.9365 - accuracy: 0.6478 - val_loss: 1.0316 - val_accuracy: 0.6189\n",
      "Epoch 41/100\n",
      "145/145 [==============================] - 346s 2s/step - loss: 0.9320 - accuracy: 0.6503 - val_loss: 1.0277 - val_accuracy: 0.6197\n",
      "Epoch 42/100\n",
      "145/145 [==============================] - 348s 2s/step - loss: 0.9240 - accuracy: 0.6517 - val_loss: 1.0354 - val_accuracy: 0.6173\n",
      "Epoch 43/100\n",
      "145/145 [==============================] - 443s 3s/step - loss: 0.9134 - accuracy: 0.6562 - val_loss: 1.0364 - val_accuracy: 0.6170\n",
      "Epoch 44/100\n",
      "145/145 [==============================] - 439s 3s/step - loss: 0.9145 - accuracy: 0.6564 - val_loss: 1.0374 - val_accuracy: 0.6223\n",
      "Epoch 45/100\n",
      "145/145 [==============================] - 441s 3s/step - loss: 0.8986 - accuracy: 0.6627 - val_loss: 1.0367 - val_accuracy: 0.6214\n",
      "Epoch 46/100\n",
      "145/145 [==============================] - 439s 3s/step - loss: 0.9022 - accuracy: 0.6661 - val_loss: 1.0338 - val_accuracy: 0.6156\n",
      "Epoch 47/100\n",
      "145/145 [==============================] - 440s 3s/step - loss: 0.8997 - accuracy: 0.6609 - val_loss: 1.0375 - val_accuracy: 0.6220\n",
      "Epoch 48/100\n",
      "145/145 [==============================] - 440s 3s/step - loss: 0.8862 - accuracy: 0.6677 - val_loss: 1.0347 - val_accuracy: 0.6224\n",
      "Epoch 49/100\n",
      "145/145 [==============================] - 416s 3s/step - loss: 0.8797 - accuracy: 0.6710 - val_loss: 1.0389 - val_accuracy: 0.6227\n",
      "Epoch 50/100\n",
      "145/145 [==============================] - 327s 2s/step - loss: 0.8756 - accuracy: 0.6702 - val_loss: 1.0337 - val_accuracy: 0.6277\n",
      "Epoch 51/100\n",
      "145/145 [==============================] - 334s 2s/step - loss: 0.8688 - accuracy: 0.6768 - val_loss: 1.0448 - val_accuracy: 0.6207\n",
      "Epoch 52/100\n",
      "145/145 [==============================] - 331s 2s/step - loss: 0.8570 - accuracy: 0.6819 - val_loss: 1.0306 - val_accuracy: 0.6286\n",
      "Epoch 53/100\n",
      "145/145 [==============================] - 331s 2s/step - loss: 0.8548 - accuracy: 0.6814 - val_loss: 1.0307 - val_accuracy: 0.6282\n",
      "Epoch 54/100\n",
      "145/145 [==============================] - 338s 2s/step - loss: 0.8452 - accuracy: 0.6819 - val_loss: 1.0267 - val_accuracy: 0.6289\n",
      "Epoch 55/100\n",
      "145/145 [==============================] - 333s 2s/step - loss: 0.8435 - accuracy: 0.6855 - val_loss: 1.0532 - val_accuracy: 0.6202\n",
      "Epoch 56/100\n",
      "145/145 [==============================] - 333s 2s/step - loss: 0.8370 - accuracy: 0.6871 - val_loss: 1.0302 - val_accuracy: 0.6248\n",
      "Epoch 57/100\n",
      "145/145 [==============================] - 332s 2s/step - loss: 0.8348 - accuracy: 0.6857 - val_loss: 1.0290 - val_accuracy: 0.6254\n",
      "Epoch 58/100\n",
      "145/145 [==============================] - 332s 2s/step - loss: 0.8201 - accuracy: 0.6954 - val_loss: 1.0342 - val_accuracy: 0.6279\n",
      "Epoch 59/100\n",
      "145/145 [==============================] - 335s 2s/step - loss: 0.8279 - accuracy: 0.6901 - val_loss: 1.0425 - val_accuracy: 0.6217\n",
      "Epoch 60/100\n",
      "145/145 [==============================] - 332s 2s/step - loss: 0.8231 - accuracy: 0.6937 - val_loss: 1.0328 - val_accuracy: 0.6286\n",
      "Epoch 61/100\n",
      "145/145 [==============================] - 334s 2s/step - loss: 0.8196 - accuracy: 0.6976 - val_loss: 1.0422 - val_accuracy: 0.6226\n",
      "Epoch 62/100\n",
      "145/145 [==============================] - 334s 2s/step - loss: 0.8076 - accuracy: 0.6984 - val_loss: 1.0322 - val_accuracy: 0.6244\n",
      "Epoch 63/100\n",
      "145/145 [==============================] - 332s 2s/step - loss: 0.8043 - accuracy: 0.7053 - val_loss: 1.0444 - val_accuracy: 0.6251\n",
      "Epoch 64/100\n",
      "145/145 [==============================] - 334s 2s/step - loss: 0.7884 - accuracy: 0.7068 - val_loss: 1.0374 - val_accuracy: 0.6267\n",
      "Epoch 65/100\n",
      "145/145 [==============================] - 333s 2s/step - loss: 0.7977 - accuracy: 0.7028 - val_loss: 1.0429 - val_accuracy: 0.6306\n",
      "Epoch 66/100\n",
      "145/145 [==============================] - 332s 2s/step - loss: 0.7814 - accuracy: 0.7097 - val_loss: 1.0355 - val_accuracy: 0.6282\n",
      "Epoch 67/100\n",
      "145/145 [==============================] - 332s 2s/step - loss: 0.7720 - accuracy: 0.7139 - val_loss: 1.0425 - val_accuracy: 0.6330\n",
      "Epoch 68/100\n",
      "145/145 [==============================] - 333s 2s/step - loss: 0.7693 - accuracy: 0.7140 - val_loss: 1.0394 - val_accuracy: 0.6299\n",
      "Epoch 69/100\n",
      "145/145 [==============================] - 335s 2s/step - loss: 0.7734 - accuracy: 0.7136 - val_loss: 1.0307 - val_accuracy: 0.6295\n",
      "Epoch 70/100\n",
      "145/145 [==============================] - 334s 2s/step - loss: 0.7581 - accuracy: 0.7196 - val_loss: 1.0338 - val_accuracy: 0.6275\n",
      "Epoch 71/100\n",
      "145/145 [==============================] - 333s 2s/step - loss: 0.7678 - accuracy: 0.7173 - val_loss: 1.0320 - val_accuracy: 0.6342\n",
      "Epoch 72/100\n",
      "145/145 [==============================] - 331s 2s/step - loss: 0.7557 - accuracy: 0.7247 - val_loss: 1.0320 - val_accuracy: 0.6319\n",
      "Epoch 73/100\n",
      "145/145 [==============================] - 333s 2s/step - loss: 0.7500 - accuracy: 0.7226 - val_loss: 1.0389 - val_accuracy: 0.6343\n",
      "Epoch 74/100\n",
      "145/145 [==============================] - 338s 2s/step - loss: 0.7398 - accuracy: 0.7266 - val_loss: 1.0427 - val_accuracy: 0.6268\n",
      "Epoch 75/100\n",
      "145/145 [==============================] - 332s 2s/step - loss: 0.7287 - accuracy: 0.7299 - val_loss: 1.0585 - val_accuracy: 0.6313\n",
      "Epoch 76/100\n",
      "145/145 [==============================] - 335s 2s/step - loss: 0.7314 - accuracy: 0.7319 - val_loss: 1.0295 - val_accuracy: 0.6303\n",
      "Epoch 77/100\n",
      "145/145 [==============================] - 331s 2s/step - loss: 0.7360 - accuracy: 0.7301 - val_loss: 1.0405 - val_accuracy: 0.6319\n",
      "Epoch 78/100\n",
      "145/145 [==============================] - 334s 2s/step - loss: 0.7149 - accuracy: 0.7357 - val_loss: 1.0488 - val_accuracy: 0.6282\n",
      "Epoch 79/100\n",
      "145/145 [==============================] - 334s 2s/step - loss: 0.7159 - accuracy: 0.7347 - val_loss: 1.0542 - val_accuracy: 0.6296\n",
      "Epoch 80/100\n",
      "145/145 [==============================] - 332s 2s/step - loss: 0.7187 - accuracy: 0.7382 - val_loss: 1.0583 - val_accuracy: 0.6265\n",
      "Epoch 81/100\n",
      "145/145 [==============================] - 337s 2s/step - loss: 0.7020 - accuracy: 0.7433 - val_loss: 1.0506 - val_accuracy: 0.6313\n",
      "Epoch 82/100\n",
      "145/145 [==============================] - 335s 2s/step - loss: 0.6997 - accuracy: 0.7445 - val_loss: 1.0547 - val_accuracy: 0.6333\n",
      "Epoch 83/100\n",
      "145/145 [==============================] - 336s 2s/step - loss: 0.6979 - accuracy: 0.7440 - val_loss: 1.0460 - val_accuracy: 0.6330\n",
      "Epoch 84/100\n",
      "145/145 [==============================] - 342s 2s/step - loss: 0.6986 - accuracy: 0.7412 - val_loss: 1.0525 - val_accuracy: 0.6313\n",
      "Epoch 85/100\n",
      "145/145 [==============================] - 341s 2s/step - loss: 0.6980 - accuracy: 0.7454 - val_loss: 1.0500 - val_accuracy: 0.6312\n",
      "Epoch 86/100\n",
      "145/145 [==============================] - 327s 2s/step - loss: 0.6968 - accuracy: 0.7459 - val_loss: 1.0534 - val_accuracy: 0.6312\n",
      "Epoch 87/100\n",
      "145/145 [==============================] - 324s 2s/step - loss: 0.6812 - accuracy: 0.7509 - val_loss: 1.0590 - val_accuracy: 0.6350\n",
      "Epoch 88/100\n",
      "145/145 [==============================] - 321s 2s/step - loss: 0.6820 - accuracy: 0.7486 - val_loss: 1.0634 - val_accuracy: 0.6284\n",
      "Epoch 89/100\n",
      "145/145 [==============================] - 324s 2s/step - loss: 0.6758 - accuracy: 0.7513 - val_loss: 1.0452 - val_accuracy: 0.6363\n",
      "Epoch 90/100\n",
      "145/145 [==============================] - 321s 2s/step - loss: 0.6734 - accuracy: 0.7562 - val_loss: 1.0583 - val_accuracy: 0.6265\n",
      "Epoch 91/100\n",
      "145/145 [==============================] - 325s 2s/step - loss: 0.6783 - accuracy: 0.7544 - val_loss: 1.0470 - val_accuracy: 0.6281\n",
      "Epoch 92/100\n",
      "145/145 [==============================] - 330s 2s/step - loss: 0.6655 - accuracy: 0.7580 - val_loss: 1.0525 - val_accuracy: 0.6305\n",
      "Epoch 93/100\n",
      "145/145 [==============================] - 329s 2s/step - loss: 0.6652 - accuracy: 0.7601 - val_loss: 1.0545 - val_accuracy: 0.6271\n",
      "Epoch 94/100\n",
      "145/145 [==============================] - 329s 2s/step - loss: 0.6646 - accuracy: 0.7584 - val_loss: 1.0709 - val_accuracy: 0.6320\n",
      "Epoch 95/100\n",
      "145/145 [==============================] - 329s 2s/step - loss: 0.6623 - accuracy: 0.7584 - val_loss: 1.0716 - val_accuracy: 0.6252\n",
      "Epoch 96/100\n",
      "145/145 [==============================] - 333s 2s/step - loss: 0.6519 - accuracy: 0.7630 - val_loss: 1.0506 - val_accuracy: 0.6294\n",
      "Epoch 97/100\n",
      "145/145 [==============================] - 330s 2s/step - loss: 0.6442 - accuracy: 0.7648 - val_loss: 1.0560 - val_accuracy: 0.6284\n",
      "Epoch 98/100\n",
      "145/145 [==============================] - 329s 2s/step - loss: 0.6441 - accuracy: 0.7686 - val_loss: 1.0714 - val_accuracy: 0.6336\n",
      "Epoch 99/100\n",
      "145/145 [==============================] - 327s 2s/step - loss: 0.6380 - accuracy: 0.7662 - val_loss: 1.0674 - val_accuracy: 0.6363\n",
      "Epoch 100/100\n",
      "145/145 [==============================] - 328s 2s/step - loss: 0.6285 - accuracy: 0.7726 - val_loss: 1.0670 - val_accuracy: 0.6330\n"
     ]
    },
    {
     "data": {
      "text/plain": [
       "<keras.src.callbacks.History at 0x24c712d09a0>"
      ]
     },
     "execution_count": 20,
     "metadata": {},
     "output_type": "execute_result"
    }
   ],
   "source": [
    "model.fit(x= x_train,y = y_train, batch_size = 200, epochs = 100, validation_data = (x_test,y_test))"
   ]
  },
  {
   "cell_type": "code",
   "execution_count": 29,
   "id": "cee343e3-d3da-4314-8687-6773869ddd00",
   "metadata": {},
   "outputs": [],
   "source": [
    "model_json = model.to_json()\n",
    "with open(\"emotiondetector.json\",'w') as json_file:\n",
    "    json_file.write(model_json)\n",
    "model.save('emotiondetector.h5')"
   ]
  },
  {
   "cell_type": "code",
   "execution_count": 30,
   "id": "14d4fdbd-c484-4b1e-9ceb-909023c08c06",
   "metadata": {},
   "outputs": [],
   "source": [
    "from keras.models import model_from_json"
   ]
  },
  {
   "cell_type": "code",
   "execution_count": 31,
   "id": "7a899f08-4cdd-4aa3-8af0-21928292b5f0",
   "metadata": {},
   "outputs": [],
   "source": [
    "json_file = open(\"emotiondetector.json\", \"r\")\n",
    "model_json = json_file.read()\n",
    "json_file.close()\n",
    "model = model_from_json(model_json)\n",
    "model.load_weights(\"emotiondetector.h5\")"
   ]
  },
  {
   "cell_type": "code",
   "execution_count": 32,
   "id": "d5929f34-0214-49ff-96f6-5158b790e56e",
   "metadata": {},
   "outputs": [],
   "source": [
    "label = ['angry','disgust','fear','happy','neutral','sad','surprise']"
   ]
  },
  {
   "cell_type": "code",
   "execution_count": 33,
   "id": "c02cb55d-abb0-4cd2-a6ea-34eb897c6c8f",
   "metadata": {},
   "outputs": [],
   "source": [
    "def ef(image):\n",
    "    img = load_img(image,grayscale =  True )\n",
    "    feature = np.array(img)\n",
    "    feature = feature.reshape(1,48,48,1)\n",
    "    return feature/255.0"
   ]
  },
  {
   "cell_type": "code",
   "execution_count": 46,
   "id": "ef5046a9-5162-49ae-b36d-8146e35b53d3",
   "metadata": {},
   "outputs": [
    {
     "name": "stdout",
     "output_type": "stream",
     "text": [
      "original image is of happy\n",
      "1/1 [==============================] - 0s 33ms/step\n",
      "model prediction is  happy\n"
     ]
    }
   ],
   "source": [
    "image = 'images/train/happy/16.jpg'\n",
    "print(\"original image is of happy\")\n",
    "img = ef(image)\n",
    "pred = model.predict(img)\n",
    "pred_label = label[pred.argmax()]\n",
    "print(\"model prediction is \",pred_label)"
   ]
  },
  {
   "cell_type": "code",
   "execution_count": 36,
   "id": "f126902a-6ded-40b5-ad1f-e4de977a9024",
   "metadata": {},
   "outputs": [],
   "source": [
    "import matplotlib.pyplot as plt\n",
    "%matplotlib inline"
   ]
  },
  {
   "cell_type": "code",
   "execution_count": 42,
   "id": "ccf30617-fd07-4602-8344-ddc0b4b1fc16",
   "metadata": {},
   "outputs": [
    {
     "name": "stdout",
     "output_type": "stream",
     "text": [
      "original image is of happy\n",
      "1/1 [==============================] - 0s 29ms/step\n",
      "model prediction is  happy\n"
     ]
    },
    {
     "data": {
      "text/plain": [
       "<matplotlib.image.AxesImage at 0x24c76b9bb80>"
      ]
     },
     "execution_count": 42,
     "metadata": {},
     "output_type": "execute_result"
    },
    {
     "data": {
      "image/png": "[encoded data removed]",
      "text/plain": [
       "<Figure size 640x480 with 1 Axes>"
      ]
     },
     "metadata": {},
     "output_type": "display_data"
    }
   ],
   "source": [
    "image = 'images/train/happy/16.jpg'\n",
    "print(\"original image is of happy\")\n",
    "img = ef(image)\n",
    "pred = model.predict(img)\n",
    "pred_label = label[pred.argmax()]\n",
    "print(\"model prediction is \",pred_label)\n",
    "plt.imshow(img.reshape(48,48),cmap='gray')"
   ]
  },
  {
   "cell_type": "code",
   "execution_count": 43,
   "id": "19d4cc11-f085-4a54-96b1-f55ea836a1da",
   "metadata": {},
   "outputs": [
    {
     "name": "stdout",
     "output_type": "stream",
     "text": [
      "original image is of happy\n",
      "1/1 [==============================] - 0s 26ms/step\n",
      "model prediction is  happy\n"
     ]
    },
    {
     "data": {
      "text/plain": [
       "<matplotlib.image.AxesImage at 0x24c76cd6e90>"
      ]
     },
     "execution_count": 43,
     "metadata": {},
     "output_type": "execute_result"
    },
    {
     "data": {
      "image/png": "[encoded data removed]",
      "text/plain": [
       "<Figure size 640x480 with 1 Axes>"
      ]
     },
     "metadata": {},
     "output_type": "display_data"
    }
   ],
   "source": [
    "image = 'images/test/happy/8.jpg'\n",
    "print(\"original image is of happy\")\n",
    "img = ef(image)\n",
    "pred = model.predict(img)\n",
    "pred_label = label[pred.argmax()]\n",
    "print(\"model prediction is \",pred_label)\n",
    "plt.imshow(img.reshape(48,48),cmap='gray')"
   ]
  },
  {
   "cell_type": "code",
   "execution_count": 44,
   "id": "fa1bee96-2694-4b02-b732-403a36ca1f93",
   "metadata": {},
   "outputs": [
    {
     "name": "stdout",
     "output_type": "stream",
     "text": [
      "original image is of disgust\n",
      "1/1 [==============================] - 0s 29ms/step\n",
      "model prediction is  disgust\n"
     ]
    },
    {
     "data": {
      "text/plain": [
       "<matplotlib.image.AxesImage at 0x24c76cd5180>"
      ]
     },
     "execution_count": 44,
     "metadata": {},
     "output_type": "execute_result"
    },
    {
     "data": {
      "image/png": "[encoded data removed]",
      "text/plain": [
       "<Figure size 640x480 with 1 Axes>"
      ]
     },
     "metadata": {},
     "output_type": "display_data"
    }
   ],
   "source": [
    "image = 'images/train/disgust/299.jpg'\n",
    "print(\"original image is of disgust\")\n",
    "img = ef(image)\n",
    "pred = model.predict(img)\n",
    "pred_label = label[pred.argmax()]\n",
    "print(\"model prediction is \",pred_label)\n",
    "plt.imshow(img.reshape(48,48),cmap='gray')"
   ]
  },
  {
   "cell_type": "code",
   "execution_count": 45,
   "id": "e32bb415-1d3a-4900-aae6-a0ff63b32cdb",
   "metadata": {},
   "outputs": [
    {
     "name": "stdout",
     "output_type": "stream",
     "text": [
      "original image is of surprise\n",
      "1/1 [==============================] - 0s 22ms/step\n",
      "model prediction is  surprise\n"
     ]
    },
    {
     "data": {
      "text/plain": [
       "<matplotlib.image.AxesImage at 0x24c76da2620>"
      ]
     },
     "execution_count": 45,
     "metadata": {},
     "output_type": "execute_result"
    },
    {
     "data": {
      "image/png": "[encoded data removed]",
      "text/plain": [
       "<Figure size 640x480 with 1 Axes>"
      ]
     },
     "metadata": {},
     "output_type": "display_data"
    }
   ],
   "source": [
    "image = 'images/train/surprise/15.jpg'\n",
    "print(\"original image is of surprise\")\n",
    "img = ef(image)\n",
    "pred = model.predict(img)\n",
    "pred_label = label[pred.argmax()]\n",
    "print(\"model prediction is \",pred_label)\n",
    "plt.imshow(img.reshape(48,48),cmap='gray')"
   ]
  },
  {
   "cell_type": "code",
   "execution_count": null,
   "id": "eb781163-2aba-4641-a927-dcf7caf010c2",
   "metadata": {},
   "outputs": [],
   "source": []
  }
 ],
 "metadata": {
  "kernelspec": {
   "display_name": "Python 3 (ipykernel)",
   "language": "python",
   "name": "python3"
  },
  "language_info": {
   "codemirror_mode": {
    "name": "ipython",
    "version": 3
   },
   "file_extension": ".py",
   "mimetype": "text/x-python",
   "name": "python",
   "nbconvert_exporter": "python",
   "pygments_lexer": "ipython3",
   "version": "3.10.8"
  },
  "widgets": {
   "application/vnd.jupyter.widget-state+json": {
    "state": {
     "0ef24a9ead604990b5a926a8ff04c917": {
      "model_module": "@jupyter-widgets/controls",
      "model_module_version": "2.0.0",
      "model_name": "HTMLStyleModel",
      "state": {
       "description_width": "",
       "font_size": null,
       "text_color": null
      }
     },
     "1cf2592c232646bba87b9537ea68a0e1": {
      "model_module": "@jupyter-widgets/controls",
      "model_module_version": "2.0.0",
      "model_name": "HTMLStyleModel",
      "state": {
       "description_width": "",
       "font_size": null,
       "text_color": null
      }
     },
     "27c1a287091444849391855fec4ba92f": {
      "model_module": "@jupyter-widgets/controls",
      "model_module_version": "2.0.0",
      "model_name": "HTMLModel",
      "state": {
       "layout": "IPY_MODEL_6e9423a23bc642249388562d670d9229",
       "style": "IPY_MODEL_f1f3ce82cac14e1ab18e3e860b15f624",
       "value": " 28821/28821 [03:11&lt;00:00, 2716.02it/s]"
      }
     },
     "2cf715268ff442f585d466aa93ee5a1e": {
      "model_module": "@jupyter-widgets/controls",
      "model_module_version": "2.0.0",
      "model_name": "HBoxModel",
      "state": {
       "children": [
        "IPY_MODEL_abeeac7048804c0ea1c282caa24a9749",
        "IPY_MODEL_6d5eae1853664bed865bc381b6fd51a0",
        "IPY_MODEL_27c1a287091444849391855fec4ba92f"
       ],
       "layout": "IPY_MODEL_ca46618ffb884d9786b9bc9b5ed2ce04"
      }
     },
     "4b3519341198484b9b44b0556d8399ce": {
      "model_module": "@jupyter-widgets/base",
      "model_module_version": "2.0.0",
      "model_name": "LayoutModel",
      "state": {}
     },
     "50fc78d13b3343a282cdbcb82e0de4d9": {
      "model_module": "@jupyter-widgets/controls",
      "model_module_version": "2.0.0",
      "model_name": "ProgressStyleModel",
      "state": {
       "description_width": ""
      }
     },
     "687eb92656b04de88653ce3f0d5c64f2": {
      "model_module": "@jupyter-widgets/controls",
      "model_module_version": "2.0.0",
      "model_name": "FloatProgressModel",
      "state": {
       "bar_style": "success",
       "layout": "IPY_MODEL_ac6c5c1170424dcd93574e48690a316a",
       "max": 7066,
       "style": "IPY_MODEL_fb1252104f0c4175ae2f63bfd3632216",
       "value": 7066
      }
     },
     "6d5eae1853664bed865bc381b6fd51a0": {
      "model_module": "@jupyter-widgets/controls",
      "model_module_version": "2.0.0",
      "model_name": "FloatProgressModel",
      "state": {
       "bar_style": "success",
       "layout": "IPY_MODEL_9618eab0c13047149f13b88a8050007d",
       "max": 28821,
       "style": "IPY_MODEL_50fc78d13b3343a282cdbcb82e0de4d9",
       "value": 28821
      }
     },
     "6e9423a23bc642249388562d670d9229": {
      "model_module": "@jupyter-widgets/base",
      "model_module_version": "2.0.0",
      "model_name": "LayoutModel",
      "state": {}
     },
     "74de14c273da4a23ba511b72484bad24": {
      "model_module": "@jupyter-widgets/controls",
      "model_module_version": "2.0.0",
      "model_name": "HTMLStyleModel",
      "state": {
       "description_width": "",
       "font_size": null,
       "text_color": null
      }
     },
     "790272c46b634f1baaf52264102cab55": {
      "model_module": "@jupyter-widgets/base",
      "model_module_version": "2.0.0",
      "model_name": "LayoutModel",
      "state": {}
     },
     "91784d260df04c5bbf2fbf265d745d69": {
      "model_module": "@jupyter-widgets/base",
      "model_module_version": "2.0.0",
      "model_name": "LayoutModel",
      "state": {}
     },
     "9618eab0c13047149f13b88a8050007d": {
      "model_module": "@jupyter-widgets/base",
      "model_module_version": "2.0.0",
      "model_name": "LayoutModel",
      "state": {}
     },
     "abeeac7048804c0ea1c282caa24a9749": {
      "model_module": "@jupyter-widgets/controls",
      "model_module_version": "2.0.0",
      "model_name": "HTMLModel",
      "state": {
       "layout": "IPY_MODEL_ddef72f3f28040e49905195d097607cf",
       "style": "IPY_MODEL_1cf2592c232646bba87b9537ea68a0e1",
       "value": "100%"
      }
     },
     "ac6c5c1170424dcd93574e48690a316a": {
      "model_module": "@jupyter-widgets/base",
      "model_module_version": "2.0.0",
      "model_name": "LayoutModel",
      "state": {}
     },
     "b6e331473144423599967ce622e9f7b7": {
      "model_module": "@jupyter-widgets/controls",
      "model_module_version": "2.0.0",
      "model_name": "HTMLModel",
      "state": {
       "layout": "IPY_MODEL_4b3519341198484b9b44b0556d8399ce",
       "style": "IPY_MODEL_74de14c273da4a23ba511b72484bad24",
       "value": " 7066/7066 [00:38&lt;00:00, 138.51it/s]"
      }
     },
     "ca46618ffb884d9786b9bc9b5ed2ce04": {
      "model_module": "@jupyter-widgets/base",
      "model_module_version": "2.0.0",
      "model_name": "LayoutModel",
      "state": {}
     },
     "ddef72f3f28040e49905195d097607cf": {
      "model_module": "@jupyter-widgets/base",
      "model_module_version": "2.0.0",
      "model_name": "LayoutModel",
      "state": {}
     },
     "de84c1363b3e476caa9b3f9cd7ca3553": {
      "model_module": "@jupyter-widgets/controls",
      "model_module_version": "2.0.0",
      "model_name": "HTMLModel",
      "state": {
       "layout": "IPY_MODEL_790272c46b634f1baaf52264102cab55",
       "style": "IPY_MODEL_0ef24a9ead604990b5a926a8ff04c917",
       "value": "100%"
      }
     },
     "e724a822dd6e488d8417ef98f7418578": {
      "model_module": "@jupyter-widgets/controls",
      "model_module_version": "2.0.0",
      "model_name": "HBoxModel",
      "state": {
       "children": [
        "IPY_MODEL_de84c1363b3e476caa9b3f9cd7ca3553",
        "IPY_MODEL_687eb92656b04de88653ce3f0d5c64f2",
        "IPY_MODEL_b6e331473144423599967ce622e9f7b7"
       ],
       "layout": "IPY_MODEL_91784d260df04c5bbf2fbf265d745d69"
      }
     },
     "f1f3ce82cac14e1ab18e3e860b15f624": {
      "model_module": "@jupyter-widgets/controls",
      "model_module_version": "2.0.0",
      "model_name": "HTMLStyleModel",
      "state": {
       "description_width": "",
       "font_size": null,
       "text_color": null
      }
     },
     "fb1252104f0c4175ae2f63bfd3632216": {
      "model_module": "@jupyter-widgets/controls",
      "model_module_version": "2.0.0",
      "model_name": "ProgressStyleModel",
      "state": {
       "description_width": ""
      }
     }
    },
    "version_major": 2,
    "version_minor": 0
   }
  }
 },
 "nbformat": 4,
 "nbformat_minor": 5
}
